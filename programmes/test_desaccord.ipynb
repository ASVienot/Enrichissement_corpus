{
 "cells": [
  {
   "cell_type": "code",
   "execution_count": 24,
   "id": "1e361a54-5786-49d3-8045-29d2abea736f",
   "metadata": {},
   "outputs": [
    {
     "name": "stdout",
     "output_type": "stream",
     "text": [
      "Finished\n"
     ]
    }
   ],
   "source": [
    "import pandas as pd\n",
    "from dataclasses import dataclass\n",
    "import csv\n",
    "\n",
    "print('Finished')"
   ]
  },
  {
   "cell_type": "code",
   "execution_count": 25,
   "id": "1127e786-437c-49fc-a1f3-e0dd2342fcf4",
   "metadata": {},
   "outputs": [
    {
     "name": "stdout",
     "output_type": "stream",
     "text": [
      "['aberrant', 'absurde', 'abusif', 'affolant', 'ambigu', 'anormal', 'antisociale', 'bizarre', 'choquant', 'contestable', 'contradictoire', 'dangereux', 'décalée', 'dérisoire', 'discriminatoire', 'dommage', 'dommageable', 'étonnant', 'étrange', 'exagéré', 'excessive', 'exorbitant', 'extraordinaire', 'gênant', 'gêné', 'gravissime', 'hâtif', 'hésitation', 'hypocrite', 'idiot', 'illégal', 'illégitime', 'illogique', 'imparfait', 'impensable', 'impossible', 'inacceptable', 'inadmissible', 'incohérent', 'incompatible', 'incomplet', 'incompréhensible', 'inconcevable', 'incongru', 'incorrect', 'indécent', 'inéquitable', 'ingérable', 'injuste', 'inquiétant', 'insuffisant', 'insultant', 'insupportable', 'intolérable', 'inutile', 'invraisemblable', 'irresponsable', 'léonin', 'maladroit', 'malhonnête', 'malvenu', 'mauvais', 'mensongères', 'néfaste', 'opportuniste', 'paradoxal', 'préjudiciable', 'problématique', 'regrettable', 'restrictif', 'risible', 'scandaleux', 'stupéfiante', 'surréaliste']\n",
      "Finished\n"
     ]
    }
   ],
   "source": [
    "# list of angry_words\n",
    "\n",
    "angry_words = []\n",
    "with open('angry_words.txt', 'r') as file:\n",
    "    for word in file:\n",
    "        angry_words.append(word.strip())\n",
    "\n",
    "print(angry_words)\n",
    "print('Finished')"
   ]
  },
  {
   "cell_type": "code",
   "execution_count": 26,
   "id": "69df8166-7cee-4090-8c2c-b9837bd85756",
   "metadata": {},
   "outputs": [
    {
     "name": "stdout",
     "output_type": "stream",
     "text": [
      "Finished\n"
     ]
    }
   ],
   "source": [
    "# datastructure for csv line\n",
    "\n",
    "@dataclass\n",
    "class Phrase_csv:\n",
    "    Tour : int\n",
    "    Id_phrase : str\n",
    "    phrase : str\n",
    "    lemmes : str\n",
    "    accord : str\n",
    "\n",
    "print('Finished')"
   ]
  },
  {
   "cell_type": "code",
   "execution_count": 27,
   "id": "c55782c3-73e2-4812-862d-8096c0bd5bb7",
   "metadata": {},
   "outputs": [
    {
     "name": "stdout",
     "output_type": "stream",
     "text": [
      "Finished\n"
     ]
    }
   ],
   "source": [
    "# load totaldonnees.csv file\n",
    "\n",
    "totaldata = pd.read_csv('totaldonnees.csv')\n",
    "\n",
    "print('Finished')"
   ]
  },
  {
   "cell_type": "code",
   "execution_count": 28,
   "id": "47e697c3-2376-47a0-9152-0e9eacf73d36",
   "metadata": {},
   "outputs": [
    {
     "name": "stdout",
     "output_type": "stream",
     "text": [
      "Finished\n"
     ]
    }
   ],
   "source": [
    "# create a list of all phrases\n",
    "\n",
    "list_phrases = []\n",
    "\n",
    "count = 0\n",
    "for index, row in totaldata.iterrows():\n",
    "    if count > 1000:\n",
    "        break\n",
    "    else:\n",
    "        phrase = Phrase_csv(Tour=row['Tour'],\n",
    "                        Id_phrase=row['Id_phrase'],\n",
    "                        phrase=row['phrase'],\n",
    "                        lemmes=row['lemmes'].lower(),\n",
    "                        accord=row['accord'])\n",
    "        list_phrases.append(phrase)\n",
    "        count +=1\n",
    "\n",
    "print('Finished')"
   ]
  },
  {
   "cell_type": "code",
   "execution_count": 31,
   "id": "35d77c89-889f-4b1e-ad38-cb70b9a12f38",
   "metadata": {},
   "outputs": [
    {
     "name": "stdout",
     "output_type": "stream",
     "text": [
      "Phrase_csv(Tour=1, Id_phrase='weban-upn_PV_CA_2013-12-16_TEI.s1', phrase='Le Président ouvre la séance à 14 heures 20 .', lemmes='le président ouvrir le séance à 14 heure 20 .', accord='A')\n",
      "Phrase_csv(Tour=1, Id_phrase='weban-upn_PV_CA_2013-12-16_TEI.s2', phrase=\"Nous vous informons que les points de l' ordre du jour n' ont pas été traités dans leur ordre initial .\", lemmes='nous vous informer que le point de le ordre de+le jour ne avoir pas être traiter dans son ordre initial .', accord='A')\n",
      "Phrase_csv(Tour=2, Id_phrase='weban-upn_PV_CA_2013-12-16_TEI.s3', phrase='M. BACQUE et M. COHN-BENDIT donnent procuration à M. BALAUDE ;', lemmes='monsieur bacque et monsieur cohn-bendit donner procuration à monsieur balaude ;', accord='A')\n",
      "Phrase_csv(Tour=2, Id_phrase='weban-upn_PV_CA_2013-12-16_TEI.s4', phrase='M. POLIT à M. DHOMPS ;', lemmes='monsieur polit à monsieur dhomps ;', accord='A')\n",
      "Phrase_csv(Tour=2, Id_phrase='weban-upn_PV_CA_2013-12-16_TEI.s5', phrase='M. BOUSLIMI à M. VOILLIOT ;', lemmes='monsieur bouslimi à monsieur voilliot ;', accord='A')\n",
      "Phrase_csv(Tour=2, Id_phrase='weban-upn_PV_CA_2013-12-16_TEI.s6', phrase='Mme GUILLMAN à M. EL GHOZY ;', lemmes='monsieur guillman à monsieur el ghozy ;', accord='A')\n",
      "Phrase_csv(Tour=2, Id_phrase='weban-upn_PV_CA_2013-12-16_TEI.s7', phrase='M. SARKOZY à M. JOUVET ;', lemmes='monsieur nicolas sarkozy à monsieur jouvet ;', accord='A')\n",
      "Phrase_csv(Tour=2, Id_phrase='weban-upn_PV_CA_2013-12-16_TEI.s8', phrase=\"M. BRUNET à M. DE L' ESTOILE ;\", lemmes='monsieur brunet à monsieur de le estoile ;', accord='A')\n",
      "Phrase_csv(Tour=2, Id_phrase='weban-upn_PV_CA_2013-12-16_TEI.s9', phrase='M. PERL à Mme PAULET .', lemmes='monsieur perl à monsieur paulet .', accord='A')\n",
      "Phrase_csv(Tour=3, Id_phrase='weban-upn_PV_CA_2013-12-16_TEI.s11', phrase=\"L' approbation du procès-verbal de la séance du 21 octobre 2013 est reportée .\", lemmes='le approbation de+le procès-verbal de le séance de+le 21 octobre 2013 être reporter .', accord='A')\n"
     ]
    }
   ],
   "source": [
    "for phrase in list_phrases[:10]:\n",
    "    print(phrase)"
   ]
  },
  {
   "cell_type": "code",
   "execution_count": 32,
   "id": "f8a22362-c5d7-485e-a32c-c18503f8087b",
   "metadata": {},
   "outputs": [
    {
     "name": "stdout",
     "output_type": "stream",
     "text": [
      "Number of angry phrases: 2\n"
     ]
    }
   ],
   "source": [
    "# count number of angry phrases\n",
    "\n",
    "nb_angry_phrases = 0\n",
    "\n",
    "for phrase in list_phrases:\n",
    "    if phrase.accord == 'D':\n",
    "        nb_angry_phrases += 1\n",
    "\n",
    "print(f'Number of angry phrases: {nb_angry_phrases}')"
   ]
  },
  {
   "cell_type": "code",
   "execution_count": 33,
   "id": "ebe6bbd7-f952-4c90-b891-efa285f59cae",
   "metadata": {},
   "outputs": [],
   "source": [
    "for phrase in list_phrases:\n",
    "    if phrase.accord == 'D':\n",
    "        continue\n",
    "    else:\n",
    "        for angry_word in angry_words:\n",
    "            if angry_word in phrase.lemmes:\n",
    "                phrase.accord='D'"
   ]
  },
  {
   "cell_type": "code",
   "execution_count": 34,
   "id": "2098429e-3eed-41aa-a209-c044a5b118e1",
   "metadata": {},
   "outputs": [
    {
     "name": "stdout",
     "output_type": "stream",
     "text": [
      "Number of angry phrases: 25\n"
     ]
    }
   ],
   "source": [
    "nb_angry_phrases = 0\n",
    "\n",
    "for phrase in list_phrases:\n",
    "    if phrase.accord == 'D':\n",
    "        nb_angry_phrases += 1\n",
    "\n",
    "print(f'Number of angry phrases: {nb_angry_phrases}')"
   ]
  },
  {
   "cell_type": "code",
   "execution_count": 35,
   "id": "44817591-c7ec-4e34-8ec7-68ca10c7b48e",
   "metadata": {},
   "outputs": [
    {
     "name": "stdout",
     "output_type": "stream",
     "text": [
      "Finished\n"
     ]
    }
   ],
   "source": [
    "with open(\"more_angry_phrases.csv\", \"w\") as fichier:\n",
    "    structure = csv.writer(fichier, delimiter=',', quotechar='\"', quoting=csv.QUOTE_MINIMAL)\n",
    "    structure.writerow([\"Tour\", \"Id_phrase\", \"phrase\", \"lemmes\", \"accord\"])\n",
    "    for phrase in list_phrases:\n",
    "        structure.writerow([phrase.Tour, phrase.Id_phrase, phrase.phrase, phrase.lemmes, phrase.accord])\n",
    "\n",
    "print('Finished')"
   ]
  },
  {
   "cell_type": "code",
   "execution_count": null,
   "id": "316354fe-1040-4d4d-8510-ef927fe7d9de",
   "metadata": {},
   "outputs": [],
   "source": []
  }
 ],
 "metadata": {
  "kernelspec": {
   "display_name": "enrichissement_corpus",
   "language": "python",
   "name": "enrichissement_corpus"
  },
  "language_info": {
   "codemirror_mode": {
    "name": "ipython",
    "version": 3
   },
   "file_extension": ".py",
   "mimetype": "text/x-python",
   "name": "python",
   "nbconvert_exporter": "python",
   "pygments_lexer": "ipython3",
   "version": "3.11.5"
  }
 },
 "nbformat": 4,
 "nbformat_minor": 5
}
