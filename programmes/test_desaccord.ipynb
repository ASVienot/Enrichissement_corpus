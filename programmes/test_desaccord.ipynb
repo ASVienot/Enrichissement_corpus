{
 "cells": [
  {
   "cell_type": "code",
   "execution_count": 1,
   "id": "1e361a54-5786-49d3-8045-29d2abea736f",
   "metadata": {},
   "outputs": [
    {
     "name": "stdout",
     "output_type": "stream",
     "text": [
      "Finished\n"
     ]
    }
   ],
   "source": [
    "import pandas as pd\n",
    "from dataclasses import dataclass\n",
    "\n",
    "print('Finished')"
   ]
  },
  {
   "cell_type": "code",
   "execution_count": 2,
   "id": "1127e786-437c-49fc-a1f3-e0dd2342fcf4",
   "metadata": {},
   "outputs": [
    {
     "name": "stdout",
     "output_type": "stream",
     "text": [
      "['aberrant', 'absurde', 'abusif', 'affolant', 'ambigu', 'anormal', 'antisociale', 'bizarre', 'choquant', 'contestable', 'contradictoire', 'dangereux', 'décalée', 'dérisoire', 'discriminatoire', 'dommage', 'dommageable', 'étonnant', 'étrange', 'exagéré', 'excessive', 'exorbitant', 'extraordinaire', 'gênant', 'gêné', 'gravissime', 'hâtif', 'hésitation', 'hypocrite', 'idiot', 'illégal', 'illégitime', 'illogique', 'imparfait', 'impensable', 'impossible', 'inacceptable', 'inadmissible', 'incohérent', 'incompatible', 'incomplet', 'incompréhensible', 'inconcevable', 'incongru', 'incorrect', 'indécent', 'inéquitable', 'ingérable', 'injuste', 'inquiétant', 'insuffisant', 'insultant', 'insupportable', 'intolérable', 'inutile', 'invraisemblable', 'irresponsable', 'léonin', 'maladroit', 'malhonnête', 'malvenu', 'mauvais', 'mensongères', 'néfaste', 'opportuniste', 'paradoxal', 'préjudiciable', 'problématique', 'regrettable', 'restrictif', 'risible', 'scandaleux', 'stupéfiante', 'surréaliste']\n",
      "Finished\n"
     ]
    }
   ],
   "source": [
    "# list of angry_words\n",
    "\n",
    "angry_words = []\n",
    "with open('angry_words.txt', 'r') as file:\n",
    "    for word in file:\n",
    "        angry_words.append(word.strip())\n",
    "\n",
    "print(angry_words)\n",
    "print('Finished')"
   ]
  },
  {
   "cell_type": "code",
   "execution_count": 3,
   "id": "69df8166-7cee-4090-8c2c-b9837bd85756",
   "metadata": {},
   "outputs": [
    {
     "name": "stdout",
     "output_type": "stream",
     "text": [
      "Finished\n"
     ]
    }
   ],
   "source": [
    "# datastructure for csv line\n",
    "\n",
    "@dataclass\n",
    "class Phrase_csv:\n",
    "    Tour : int\n",
    "    Id_phrase : str\n",
    "    phrase : str\n",
    "    lemmes : str\n",
    "    accord : str\n",
    "\n",
    "print('Finished')"
   ]
  },
  {
   "cell_type": "code",
   "execution_count": 4,
   "id": "c55782c3-73e2-4812-862d-8096c0bd5bb7",
   "metadata": {},
   "outputs": [
    {
     "name": "stdout",
     "output_type": "stream",
     "text": [
      "Finished\n"
     ]
    }
   ],
   "source": [
    "# load totaldonnees.csv file\n",
    "\n",
    "totaldata = pd.read_csv('totaldonnees.csv')\n",
    "\n",
    "print('Finished')"
   ]
  },
  {
   "cell_type": "code",
   "execution_count": 7,
   "id": "47e697c3-2376-47a0-9152-0e9eacf73d36",
   "metadata": {},
   "outputs": [
    {
     "name": "stdout",
     "output_type": "stream",
     "text": [
      "Finished\n"
     ]
    }
   ],
   "source": [
    "# create a list of all phrases\n",
    "\n",
    "list_phrases = []\n",
    "\n",
    "count = 0\n",
    "for index, row in totaldata.iterrows():\n",
    "    next(totaldata.iterrows())\n",
    "    if count > 1000:\n",
    "        break\n",
    "    else:\n",
    "        phrase = Phrase_csv(Tour=row['Tour'],\n",
    "                        Id_phrase=row['Id_phrase'],\n",
    "                        phrase=row['phrase'],\n",
    "                        lemmes=row['lemmes'].lower(),\n",
    "                        accord=row['accord'])\n",
    "        list_phrases.append(phrase)\n",
    "        count +=1\n",
    "\n",
    "print('Finished')"
   ]
  },
  {
   "cell_type": "code",
   "execution_count": 11,
   "id": "f8a22362-c5d7-485e-a32c-c18503f8087b",
   "metadata": {},
   "outputs": [
    {
     "name": "stdout",
     "output_type": "stream",
     "text": [
      "Number of angry phrases: 2\n"
     ]
    }
   ],
   "source": [
    "# count number of angry phrases\n",
    "\n",
    "nb_angry_phrases = 0\n",
    "\n",
    "for phrase in list_phrases:\n",
    "    if phrase.accord == 'D':\n",
    "        nb_angry_phrases += 1\n",
    "\n",
    "print(f'Number of angry phrases: {nb_angry_phrases}')"
   ]
  },
  {
   "cell_type": "code",
   "execution_count": 12,
   "id": "ebe6bbd7-f952-4c90-b891-efa285f59cae",
   "metadata": {},
   "outputs": [],
   "source": [
    "for phrase in list_phrases:\n",
    "    if phrase.accord == 'D':\n",
    "        continue\n",
    "    else:\n",
    "        for angry_word in angry_words:\n",
    "            if angry_word in phrase.lemmes:\n",
    "                phrase.accord='D'"
   ]
  },
  {
   "cell_type": "code",
   "execution_count": 14,
   "id": "2098429e-3eed-41aa-a209-c044a5b118e1",
   "metadata": {},
   "outputs": [
    {
     "name": "stdout",
     "output_type": "stream",
     "text": [
      "Number of angry phrases: 25\n"
     ]
    }
   ],
   "source": [
    "nb_angry_phrases = 0\n",
    "\n",
    "for phrase in list_phrases:\n",
    "    if phrase.accord == 'D':\n",
    "        nb_angry_phrases += 1\n",
    "\n",
    "print(f'Number of angry phrases: {nb_angry_phrases}')"
   ]
  },
  {
   "cell_type": "code",
   "execution_count": 16,
   "id": "44817591-c7ec-4e34-8ec7-68ca10c7b48e",
   "metadata": {},
   "outputs": [
    {
     "name": "stdout",
     "output_type": "stream",
     "text": [
      "L' accompagnement de l' Université Paris Ouest Nanterre se déroule à son sens à un rythme positif , quoiqu' insuffisant .\n",
      "L' investissement est toutefois insuffisant et l' engagement de l' Etat devrait être plus important , au regard des besoins des universités et des ambitions affichées par le Ministère .\n",
      "À ce titre , il lui semble nécessaire de traiter la problématique des moyens accordés à la formation .\n",
      "Le Président souligne enfin que l' absence de convocation d' un membre du Conseil d' Administration au conseil du PRES est sans doute une erreur , bien entendu très regrettable .\n",
      "L' importance de ces montants lui semble anormale .\n",
      "Le Président reconnaît que la communication relative à l' activité de Paris Lumière est insuffisante .\n",
      "Mme CROIX estime qu' il est impossible de sécuriser totalement le système WiFi .\n",
      "Si l' Université Paris Ouest Nanterre est correctement dotée par rapport à d' autres établissements , le niveau proposé lui semble insuffisant .\n",
      "Cette question , ajoute -t-elle , est liée à la problématique de la politique du CRL , qui aurait vocation à centraliser les responsables de langues non spécialistes , alors même que certains d' entre eux sont actuellement rattachés aux UFR des spécialités .\n",
      "Mme COULOUMA note par ailleurs que la problématique du CRL soulève la question de la place du numérique par rapport à celle du présentiel dans le cadre de l' enseignement des langues non spécialistes .\n",
      "Mme COULOUMA estime qu' il serait problématique de valider la création de postes dont le rattachement englobe tant de disciplines ( LEA , LCE , Humanité et SSA ) .\n",
      "Le cas échéant , il s' agit de vérifier la nature des missions concernées et de s' assurer que le temps consacré à cette mission ne sera pas préjudiciable à la rédaction de la thèse .\n",
      "Il souhaite savoir si l' objectif réel de ce chantier est de réaliser des économies ou de revenir sur des avantages considérés comme illégitimes .\n",
      "Par ailleurs , il lui semble problématique que ce dossier décisif n' ait pas été remis au Bureau en amont et soit abordé si tardivement .\n",
      "Par ailleurs , la problématique du retour de l' exonération pour les conjoints et les enfants des personnels devra être tranchée le moment venu .\n",
      "Mme PAULET n' est pas convaincue que la meilleure solution soit de remettre en cause l' ensemble des acquis et des critères précédemment appliqués .\n",
      "Il s' agit d' une situation scandaleuse , qu' il est impératif de traiter au plus vite .\n",
      "Le Président fait savoir que l' Université Paris Ouest Nanterre a porté plainte et attend une sanction de la personne incriminée , au regard du degré inacceptable de violence commis vis-à-vis d' un agent dans l' exercice de ses fonctions .\n",
      "Le Président considère qu' un acte inconsidéré et inacceptable a été commis vis-à-vis de Monsieur AMOR AOUINI .\n",
      "Le principe de l' intégration de la Bibliothèque de Langues Vivantes Etrangères au SCBD est donc approuvé .\n",
      "Le C.A. élit à l' unanimité les candidats à la Commission Electorale , laquelle demeure incomplète .\n",
      "Le C.A. élit à l' unanimité les candidats à la Commission des Statuts , laquelle demeure incomplète .\n",
      "M. VOILLIOT regrette la manière dont le MESR interprète la loi , l' obligation de désigner un chef de file rend impossible l' association qui est de définir des associations sur un strict pied d' égalité .\n",
      "Elle estime que l' association pouvait être une alternative et ajoute qu' il est légitime de penser que la loi est ambiguë dans le cas de l' IDF .\n",
      "Elle juge que de faire ce que le MESR a décidé , de façon à délimiter des axes , semble dangereux et représente une perte de temps et de liberté .\n"
     ]
    }
   ],
   "source": [
    "for phrase in list_phrases:\n",
    "    if phrase.accord == 'D':\n",
    "        print(phrase.phrase)"
   ]
  },
  {
   "cell_type": "code",
   "execution_count": null,
   "id": "316354fe-1040-4d4d-8510-ef927fe7d9de",
   "metadata": {},
   "outputs": [],
   "source": []
  }
 ],
 "metadata": {
  "kernelspec": {
   "display_name": "enrichissement_corpus",
   "language": "python",
   "name": "enrichissement_corpus"
  },
  "language_info": {
   "codemirror_mode": {
    "name": "ipython",
    "version": 3
   },
   "file_extension": ".py",
   "mimetype": "text/x-python",
   "name": "python",
   "nbconvert_exporter": "python",
   "pygments_lexer": "ipython3",
   "version": "3.11.5"
  }
 },
 "nbformat": 4,
 "nbformat_minor": 5
}
